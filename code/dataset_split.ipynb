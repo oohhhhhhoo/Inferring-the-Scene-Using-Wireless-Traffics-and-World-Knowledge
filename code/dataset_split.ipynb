{
 "cells": [
  {
   "cell_type": "code",
   "execution_count": null,
   "metadata": {},
   "outputs": [],
   "source": []
  },
  {
   "cell_type": "code",
   "execution_count": null,
   "metadata": {
    "id": "vm0A-nbibBQW"
   },
   "outputs": [
    {
     "name": "stdout",
     "output_type": "stream",
     "text": [
      "总共有 3600 个文件\n",
      "训练集包含 2520 个文件\n",
      "评估集包含 1080 个文件\n"
     ]
    }
   ],
   "source": [
    "import os\n",
    "import random\n",
    "import shutil\n",
    "import re\n",
    "from collections import defaultdict\n",
    "\n",
    "label_mapping = {\n",
    "    \"0\": 0,             # static\n",
    "    \"0_2\": 1,           # slightly_move\n",
    "    \"1\": 2,             # move\n",
    "    \"4\": 3              # intensely_move\n",
    "}\n",
    "# 配置文件夹路径\n",
    "data_folder = \"202_packet_json_new_3500\"  # JSON 文件所在的文件夹\n",
    "train_folder = \"202_packet_json_new_3600_train\"  # 训练集文件夹\n",
    "eval_folder = \"202_packet_json_new_3600_eval\"  # 评估集文件夹\n",
    "\n",
    "# 创建目标文件夹（如果不存在）\n",
    "os.makedirs(train_folder, exist_ok=True)\n",
    "os.makedirs(eval_folder, exist_ok=True)\n",
    "\n",
    "def get_label_from_filename(filename):\n",
    "    return label_mapping.get(filename[9:-5],-1)\n",
    "\n",
    "def load_files_and_labels(folder_path):\n",
    "    file_list = []\n",
    "    labels = []\n",
    "    for file in os.listdir(folder_path):\n",
    "        if file.endswith(\".json\"):\n",
    "            label = get_label_from_filename(file)\n",
    "            if label != -1:\n",
    "                file_list.append(os.path.join(folder_path, file))\n",
    "                labels.append(label)\n",
    "    return file_list, labels\n",
    "\n",
    "# 加载文件及其标签\n",
    "file_list, labels = load_files_and_labels(data_folder)\n",
    "print(f\"总共有 {len(file_list)} 个文件\")\n",
    "\n",
    "# 将文件按标签分组\n",
    "files_by_label = defaultdict(list)\n",
    "for file, label in zip(file_list, labels):\n",
    "    files_by_label[label].append(file)\n",
    "\n",
    "# 设置划分比例\n",
    "train_ratio = 0.7  # 70% 数据用于训练\n",
    "\n",
    "# 分别对每个类别进行划分\n",
    "train_files = []\n",
    "eval_files = []\n",
    "\n",
    "for label, files in files_by_label.items():\n",
    "    random.shuffle(files)  # 对每个类别的文件随机打乱\n",
    "    train_size = int(len(files) * train_ratio)\n",
    "    train_files.extend(files[:train_size])  # 添加到训练集\n",
    "    eval_files.extend(files[train_size:])  # 添加到评估集\n",
    "\n",
    "# 将文件复制到对应文件夹\n",
    "for file in train_files:\n",
    "    shutil.copy(file, os.path.join(train_folder, os.path.basename(file)))\n",
    "\n",
    "for file in eval_files:\n",
    "    shutil.copy(file, os.path.join(eval_folder, os.path.basename(file)))\n",
    "\n",
    "print(f\"训练集包含 {len(train_files)} 个文件\")\n",
    "print(f\"评估集包含 {len(eval_files)} 个文件\")"
   ]
  }
 ],
 "metadata": {
  "colab": {
   "authorship_tag": "ABX9TyPiMx9DI8/9Njj3IOLd+03g",
   "provenance": []
  },
  "kernelspec": {
   "display_name": "202_proj",
   "language": "python",
   "name": "python3"
  },
  "language_info": {
   "codemirror_mode": {
    "name": "ipython",
    "version": 3
   },
   "file_extension": ".py",
   "mimetype": "text/x-python",
   "name": "python",
   "nbconvert_exporter": "python",
   "pygments_lexer": "ipython3",
   "version": "3.9.0"
  }
 },
 "nbformat": 4,
 "nbformat_minor": 0
}
