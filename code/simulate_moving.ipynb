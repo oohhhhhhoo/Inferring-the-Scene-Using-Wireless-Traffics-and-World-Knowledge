{
 "cells": [
  {
   "cell_type": "code",
   "execution_count": 6,
   "id": "15a1bcf4",
   "metadata": {},
   "outputs": [
    {
     "ename": "SystemExit",
     "evalue": "",
     "output_type": "error",
     "traceback": [
      "An exception has occurred, use %tb to see the full traceback.\n",
      "\u001b[1;31mSystemExit\u001b[0m\n"
     ]
    }
   ],
   "source": [
    "import pygame\n",
    "import random\n",
    "import sys\n",
    "\n",
    "# 初始化 Pygame\n",
    "pygame.init()\n",
    "\n",
    "# 设置屏幕大小\n",
    "SCREEN_WIDTH, SCREEN_HEIGHT = 800, 600\n",
    "screen = pygame.display.set_mode((SCREEN_WIDTH, SCREEN_HEIGHT))\n",
    "pygame.display.set_caption(\"屏幕颜色闪烁和色块移动\")\n",
    "\n",
    "\n",
    "# 颜色定义\n",
    "COLORS = [(255, 0, 0), (0, 255, 0), (0, 0, 255), (255, 255, 0), (255, 0, 255), (0, 255, 255)]\n",
    "# 屏幕闪烁\n",
    "screen_blink = False\n",
    "\n",
    "# 色块设置\n",
    "# 色块移动\n",
    "block_move = True\n",
    "#色块大小\n",
    "block_size = [100,100]\n",
    "#色块速度\n",
    "block_speed = 10\n",
    "\n",
    "block_width, block_height = block_size[0], block_size[1]\n",
    "block_x, block_y = 100, SCREEN_HEIGHT // 2 - block_height // 2\n",
    "direction = 1  # 1表示向右移动，-1表示向左移动\n",
    "\n",
    "# 主循环\n",
    "clock = pygame.time.Clock()\n",
    "running = True\n",
    "color_index = 0\n",
    "flash_timer = 0  # 闪烁计时器\n",
    "flash_interval = 500  # 每500毫秒切换颜色\n",
    "\n",
    "while running:\n",
    "    for event in pygame.event.get():\n",
    "        if event.type == pygame.QUIT:\n",
    "            running = False\n",
    "\n",
    "    # 更新屏幕颜色（闪烁效果）\n",
    "    flash_timer += clock.get_time()\n",
    "    if flash_timer >= flash_interval and screen_blink:\n",
    "        color_index = random.randint(0, len(COLORS) - 1)\n",
    "        flash_timer = 0\n",
    "    screen.fill(COLORS[color_index])\n",
    "\n",
    "    # 移动色块\n",
    "    if block_move:\n",
    "        block_x += block_speed * direction\n",
    "        if block_x + block_width > SCREEN_WIDTH or block_x < 0:\n",
    "            direction *= -1  # 反向移动\n",
    "\n",
    "        # 绘制色块\n",
    "        pygame.draw.rect(screen, (255, 255, 255), (block_x, block_y, block_width, block_height))\n",
    "\n",
    "    # 刷新屏幕\n",
    "    pygame.display.flip()\n",
    "\n",
    "    # 控制帧率\n",
    "    clock.tick(60)\n",
    "\n",
    "# 退出 Pygame\n",
    "pygame.quit()\n",
    "sys.exit()\n"
   ]
  },
  {
   "cell_type": "code",
   "execution_count": 5,
   "id": "03531ee2",
   "metadata": {},
   "outputs": [
    {
     "ename": "SystemExit",
     "evalue": "",
     "output_type": "error",
     "traceback": [
      "An exception has occurred, use %tb to see the full traceback.\n",
      "\u001b[1;31mSystemExit\u001b[0m\n"
     ]
    }
   ],
   "source": [
    "import pygame\n",
    "import sys\n",
    "\n",
    "# 初始化 Pygame\n",
    "pygame.init()\n",
    "\n",
    "# 设置屏幕大小\n",
    "SCREEN_WIDTH, SCREEN_HEIGHT = 800, 600\n",
    "screen = pygame.display.set_mode((SCREEN_WIDTH, SCREEN_HEIGHT))\n",
    "pygame.display.set_caption(\"背景和色块移动\")\n",
    "\n",
    "# 导入图片\n",
    "background_image = pygame.image.load(\"data/background1.jpg\")  # 替换为你的背景图片路径\n",
    "block_image = pygame.image.load(\"data/person1.png\").convert_alpha()  # 替换为你的色块图片路径\n",
    "\n",
    "# 调整图片尺寸\n",
    "background_image = pygame.transform.scale(background_image, (SCREEN_WIDTH, SCREEN_HEIGHT))\n",
    "block_size = [320, 350]  # 色块大小\n",
    "block_image = pygame.transform.scale(block_image, block_size)\n",
    "\n",
    "# 色块设置\n",
    "block_width, block_height = block_size[0], block_size[1]\n",
    "block_x = 100 \n",
    "block_y = SCREEN_HEIGHT-block_height-10  #SCREEN_HEIGHT // 2 - block_height // 2\n",
    "block_speed = 1\n",
    "direction = 1  # 1表示向右移动，-1表示向左移动\n",
    "\n",
    "# 主循环\n",
    "clock = pygame.time.Clock()\n",
    "running = True\n",
    "\n",
    "while running:\n",
    "    for event in pygame.event.get():\n",
    "        if event.type == pygame.QUIT:\n",
    "            running = False\n",
    "\n",
    "    # 绘制背景图片\n",
    "    screen.blit(background_image, (0, 0))\n",
    "\n",
    "    # 移动色块\n",
    "    block_x += block_speed * direction\n",
    "    if block_x + block_width > SCREEN_WIDTH or block_x < 0:\n",
    "        direction *= -1  # 反向移动\n",
    "\n",
    "    # 绘制色块\n",
    "    screen.blit(block_image, (block_x, block_y))\n",
    "\n",
    "    # 刷新屏幕\n",
    "    pygame.display.flip()\n",
    "\n",
    "    # 控制帧率\n",
    "    clock.tick(60)\n",
    "\n",
    "# 退出 Pygame\n",
    "pygame.quit()\n",
    "sys.exit()\n"
   ]
  },
  {
   "cell_type": "code",
   "execution_count": 22,
   "id": "540f701d",
   "metadata": {},
   "outputs": [
    {
     "name": "stdout",
     "output_type": "stream",
     "text": [
      "True\n"
     ]
    }
   ],
   "source": []
  },
  {
   "cell_type": "code",
   "execution_count": null,
   "id": "40e5cac0",
   "metadata": {},
   "outputs": [],
   "source": []
  }
 ],
 "metadata": {
  "kernelspec": {
   "display_name": "Python 3 (ipykernel)",
   "language": "python",
   "name": "python3"
  },
  "language_info": {
   "codemirror_mode": {
    "name": "ipython",
    "version": 3
   },
   "file_extension": ".py",
   "mimetype": "text/x-python",
   "name": "python",
   "nbconvert_exporter": "python",
   "pygments_lexer": "ipython3",
   "version": "3.9.13"
  }
 },
 "nbformat": 4,
 "nbformat_minor": 5
}
